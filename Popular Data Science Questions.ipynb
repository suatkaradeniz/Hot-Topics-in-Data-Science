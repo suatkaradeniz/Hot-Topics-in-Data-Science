{
 "cells": [
  {
   "cell_type": "markdown",
   "metadata": {},
   "source": [
    "\n",
    "\n",
    "# Hot Topics in Data Science\n",
    "\n",
    "   In this project, we will be in search for an answer to the following question:\n",
    "   \"What is it that people want to learn about in data science?\"\n",
    "    \n",
    "## Stack Exchange \n",
    "   Stack Exchange is a popular webpage which hosts sites on a multitude of fields \n",
    "   and subjects, including mathematics, physics, philosophy, and ***data science*** !\n",
    "   The website employs a reputation award system for its questions and answers. \n",
    "   Each post — each question/answer — is a post that is subject to upvotes and \n",
    "   downvotes. This ensures that good posts are easily identifiable. \n",
    "    \n",
    "   Stack Exchange provides a public data base for each of its websites. \n",
    "   Here's a [link](https://data.stackexchange.com/datascience/query/new) to query and \n",
    "   explore Data Science Stack Exchange's database.\n",
    "   \n",
    "   By writing a simple SQL query and saving it as a .csv file, data science community\n",
    "   is able to derive valuable results from the obtained data. For our purpose, analyzing \n",
    "   all questions posted in 2019 seems promising. \n",
    "   \n",
    "   We run the following query to extract the relevant data and then save it as a .csv file\n",
    "   called **2019_questions.csv**:\n",
    "   \n",
    "   ```\n",
    "SELECT Id, CreationDate,\n",
    "       Score, ViewCount, Tags,\n",
    "       AnswerCount, FavoriteCount\n",
    "  FROM posts\n",
    " WHERE PostTypeId = 1 AND YEAR(CreationDate) = 2019;\n",
    "```\n",
    "\n",
    "\n",
    "#### Here's what the first few rows look like:\n",
    "\n",
    "<table>\n",
    "  <tr>\n",
    "    <th>Id</th>\n",
    "    <th>PostTypeId</th>\n",
    "    <th>CreationDate</th>\n",
    "    <th>Score</th>\n",
    "    <th>ViewCount</th>\n",
    "    <th>Tags</th>\n",
    "    <th>AnswerCount</th>\n",
    "    <th>FavoriteCount</th>\n",
    "  </tr>\n",
    "  <tr>\n",
    "    <td>44419</td>\n",
    "    <td>1</td>\n",
    "    <td>2019-01-23 09:21:13</td>\n",
    "    <td>1</td>\n",
    "    <td>21</td>\n",
    "    <td>&lt;machine-learning&gt;&lt;data-mining&gt;</td>\n",
    "    <td>0</td>\n",
    "    <td></td>\n",
    "  </tr>\n",
    "  <tr>\n",
    "    <td>44420</td>\n",
    "    <td>1</td>\n",
    "    <td>2019-01-23 09:34:01</td>\n",
    "    <td>0</td>\n",
    "    <td>25</td>\n",
    "    <td>&lt;machine-learning&gt;&lt;regression&gt;&lt;linear-regression&gt;&lt;regularization&gt;</td>\n",
    "    <td>0</td>\n",
    "    <td></td>\n",
    "  </tr>\n",
    "  <tr>\n",
    "    <td>44423</td>\n",
    "    <td>1</td>\n",
    "    <td>2019-01-23 09:58:41</td>\n",
    "    <td>2</td>\n",
    "    <td>1651</td>\n",
    "    <td>&lt;python&gt;&lt;time-series&gt;&lt;forecast&gt;&lt;forecasting&gt;</td>\n",
    "    <td>0</td>\n",
    "    <td></td>\n",
    "  </tr>\n",
    "</table>\n",
    "\n",
    "   \n",
    "## Importing the Data in a Dataframe\n",
    "\n",
    "We can read in the data file **2019_questions.csv** into a dataframe.\n",
    "But before let us import all libraries we will need.\n",
    "   \n",
    "   \n",
    "   \n",
    "   \n",
    "\n",
    "\n",
    "\n"
   ]
  },
  {
   "cell_type": "code",
   "execution_count": 1,
   "metadata": {},
   "outputs": [],
   "source": [
    "import pandas as pd\n",
    "import numpy as np\n",
    "import re\n",
    "import matplotlib.pyplot as plt\n",
    "import itertools as it\n",
    "import datetime as dt\n",
    "%matplotlib inline"
   ]
  },
  {
   "cell_type": "code",
   "execution_count": 2,
   "metadata": {},
   "outputs": [],
   "source": [
    "df=pd.read_csv('2019_questions.csv')"
   ]
  },
  {
   "cell_type": "markdown",
   "metadata": {},
   "source": [
    "We first inspect the dataframe for possible cleaning and preperation issues."
   ]
  },
  {
   "cell_type": "code",
   "execution_count": 3,
   "metadata": {},
   "outputs": [
    {
     "name": "stdout",
     "output_type": "stream",
     "text": [
      "<class 'pandas.core.frame.DataFrame'>\n",
      "RangeIndex: 8839 entries, 0 to 8838\n",
      "Data columns (total 7 columns):\n",
      " #   Column         Non-Null Count  Dtype  \n",
      "---  ------         --------------  -----  \n",
      " 0   Id             8839 non-null   int64  \n",
      " 1   CreationDate   8839 non-null   object \n",
      " 2   Score          8839 non-null   int64  \n",
      " 3   ViewCount      8839 non-null   int64  \n",
      " 4   Tags           8839 non-null   object \n",
      " 5   AnswerCount    8839 non-null   int64  \n",
      " 6   FavoriteCount  1407 non-null   float64\n",
      "dtypes: float64(1), int64(4), object(2)\n",
      "memory usage: 483.5+ KB\n"
     ]
    }
   ],
   "source": [
    "df.info()"
   ]
  },
  {
   "cell_type": "markdown",
   "metadata": {},
   "source": [
    "## Cleaning the Data\n",
    "\n",
    "#### After loading the csv file into pandas dataframe, a quick inspection reveals the following:\n",
    "* FavoriteCount column has 7432 NAN values. Column data type is float but should be set to integer. Also changing NAN values to 0 seems reasonable.\n",
    "* CreationDate column has object dtype but converting it to datetime object can help us while analyzing dataframe.\n",
    "* Tags column consists of multiple tags so it makes data analysis problematic.\n",
    "\n",
    "We will begin our data cleaning step by fixing above issues starting from 'FavoriteCount' column.\n"
   ]
  },
  {
   "cell_type": "code",
   "execution_count": 4,
   "metadata": {},
   "outputs": [
    {
     "data": {
      "text/plain": [
       "0     7607\n",
       "1      953\n",
       "2      205\n",
       "3       43\n",
       "4       12\n",
       "5        8\n",
       "7        4\n",
       "6        4\n",
       "11       1\n",
       "16       1\n",
       "8        1\n",
       "Name: FavoriteCount, dtype: int64"
      ]
     },
     "execution_count": 4,
     "metadata": {},
     "output_type": "execute_result"
    }
   ],
   "source": [
    "df['CreationDate']=df['CreationDate'].apply(pd.to_datetime)\n",
    "df['FavoriteCount']=df['FavoriteCount'].fillna(0).astype(int)\n",
    "df['FavoriteCount'].value_counts()"
   ]
  },
  {
   "cell_type": "markdown",
   "metadata": {},
   "source": [
    "#### Now it is time to modify the 'Tags' column in order to work with easily.\n",
    "\n",
    "* Each tag is seperated by a comma and we create a new column called\n",
    "'No_Of_tags' which counts the tags used.\n",
    "* Create a new column 'tag_list' which keeps tags in list format\n",
    "to simplify data analysis process.\n",
    "* Check the changes.\n"
   ]
  },
  {
   "cell_type": "code",
   "execution_count": 5,
   "metadata": {},
   "outputs": [
    {
     "data": {
      "text/html": [
       "<div>\n",
       "<style scoped>\n",
       "    .dataframe tbody tr th:only-of-type {\n",
       "        vertical-align: middle;\n",
       "    }\n",
       "\n",
       "    .dataframe tbody tr th {\n",
       "        vertical-align: top;\n",
       "    }\n",
       "\n",
       "    .dataframe thead th {\n",
       "        text-align: right;\n",
       "    }\n",
       "</style>\n",
       "<table border=\"1\" class=\"dataframe\">\n",
       "  <thead>\n",
       "    <tr style=\"text-align: right;\">\n",
       "      <th></th>\n",
       "      <th>Tags</th>\n",
       "      <th>No_Of_tags</th>\n",
       "      <th>tags_list</th>\n",
       "    </tr>\n",
       "  </thead>\n",
       "  <tbody>\n",
       "    <tr>\n",
       "      <th>0</th>\n",
       "      <td>machine-learning,data-mining</td>\n",
       "      <td>2</td>\n",
       "      <td>[machine-learning, data-mining]</td>\n",
       "    </tr>\n",
       "    <tr>\n",
       "      <th>1</th>\n",
       "      <td>machine-learning,regression,linear-regression,...</td>\n",
       "      <td>4</td>\n",
       "      <td>[machine-learning, regression, linear-regressi...</td>\n",
       "    </tr>\n",
       "    <tr>\n",
       "      <th>2</th>\n",
       "      <td>python,time-series,forecast,forecasting</td>\n",
       "      <td>4</td>\n",
       "      <td>[python, time-series, forecast, forecasting]</td>\n",
       "    </tr>\n",
       "    <tr>\n",
       "      <th>3</th>\n",
       "      <td>machine-learning,scikit-learn,pca</td>\n",
       "      <td>3</td>\n",
       "      <td>[machine-learning, scikit-learn, pca]</td>\n",
       "    </tr>\n",
       "    <tr>\n",
       "      <th>4</th>\n",
       "      <td>dataset,bigdata,data,speech-to-text</td>\n",
       "      <td>4</td>\n",
       "      <td>[dataset, bigdata, data, speech-to-text]</td>\n",
       "    </tr>\n",
       "  </tbody>\n",
       "</table>\n",
       "</div>"
      ],
      "text/plain": [
       "                                                Tags  No_Of_tags  \\\n",
       "0                       machine-learning,data-mining           2   \n",
       "1  machine-learning,regression,linear-regression,...           4   \n",
       "2            python,time-series,forecast,forecasting           4   \n",
       "3                  machine-learning,scikit-learn,pca           3   \n",
       "4                dataset,bigdata,data,speech-to-text           4   \n",
       "\n",
       "                                           tags_list  \n",
       "0                    [machine-learning, data-mining]  \n",
       "1  [machine-learning, regression, linear-regressi...  \n",
       "2       [python, time-series, forecast, forecasting]  \n",
       "3              [machine-learning, scikit-learn, pca]  \n",
       "4           [dataset, bigdata, data, speech-to-text]  "
      ]
     },
     "execution_count": 5,
     "metadata": {},
     "output_type": "execute_result"
    }
   ],
   "source": [
    "lst=['<','>']\n",
    "df['Tags']=df['Tags'].str.replace('><',',').str.translate({ord(x):'' for x in lst})\n",
    "df['No_Of_tags']=df['Tags'].str.count(',')+1\n",
    "df['tags_list']=df['Tags'].str.split(',')\n",
    "df[['Tags','No_Of_tags','tags_list']].head()\n",
    "\n"
   ]
  },
  {
   "cell_type": "markdown",
   "metadata": {},
   "source": [
    "## Most Used and Viewed Tags\n",
    "\n",
    "We can have an idea about most popular topics in data science in 2019 \n",
    "by counting how many times each tag is used or viewed in 2019.\n"
   ]
  },
  {
   "cell_type": "code",
   "execution_count": 6,
   "metadata": {},
   "outputs": [
    {
     "data": {
      "text/plain": [
       "526"
      ]
     },
     "execution_count": 6,
     "metadata": {},
     "output_type": "execute_result"
    }
   ],
   "source": [
    "#list of all distinct tags\n",
    "tags_list=df['tags_list'].sum()\n",
    "distinct_tags=set(tags_list)\n",
    "len(distinct_tags)\n",
    "# tags_list"
   ]
  },
  {
   "cell_type": "markdown",
   "metadata": {},
   "source": [
    "There are 526 distinct tags used in 2019 Stack Exchange questons.\n",
    "We know there are 8839 questions.\n",
    "Now let us count how many times each of them is used and store results in a dictionary\n",
    "named **count_tags** where **key=tag** and **value=count**."
   ]
  },
  {
   "cell_type": "code",
   "execution_count": 7,
   "metadata": {},
   "outputs": [],
   "source": [
    "count_tags={}\n",
    "for tag in distinct_tags:\n",
    "    mask=df['tags_list'].apply(lambda x: True if tag in x else False)\n",
    "    count_tags[tag]=mask.sum()"
   ]
  },
  {
   "cell_type": "code",
   "execution_count": 8,
   "metadata": {},
   "outputs": [
    {
     "data": {
      "text/plain": [
       "[('machine-learning', 2693),\n",
       " ('python', 1814),\n",
       " ('deep-learning', 1220),\n",
       " ('neural-network', 1055),\n",
       " ('keras', 935),\n",
       " ('classification', 685),\n",
       " ('tensorflow', 584),\n",
       " ('scikit-learn', 540),\n",
       " ('nlp', 493),\n",
       " ('cnn', 489),\n",
       " ('time-series', 466),\n",
       " ('lstm', 402),\n",
       " ('pandas', 354),\n",
       " ('regression', 347),\n",
       " ('dataset', 340),\n",
       " ('r', 268),\n",
       " ('predictive-modeling', 265),\n",
       " ('clustering', 257),\n",
       " ('statistics', 234),\n",
       " ('machine-learning-model', 224)]"
      ]
     },
     "execution_count": 8,
     "metadata": {},
     "output_type": "execute_result"
    }
   ],
   "source": [
    "# Sort the values in descending order into a list.\n",
    "sort_count_tags = sorted(count_tags.items(), key=lambda x: x[1], reverse=True)\n",
    "\n",
    "#List top 20 popular tags\n",
    "sort_count_tags[:20]"
   ]
  },
  {
   "cell_type": "code",
   "execution_count": 9,
   "metadata": {},
   "outputs": [
    {
     "data": {
      "text/plain": [
       "<BarContainer object of 20 artists>"
      ]
     },
     "execution_count": 9,
     "metadata": {},
     "output_type": "execute_result"
    },
    {
     "data": {
      "image/png": "[encoded data removed]",
      "text/plain": [
       "<Figure size 1440x720 with 1 Axes>"
      ]
     },
     "metadata": {
      "needs_background": "light"
     },
     "output_type": "display_data"
    }
   ],
   "source": [
    "D=dict(sort_count_tags[:20])\n",
    "plt.figure(figsize=(20,10))\n",
    "plt.title('Top 20 : Most Used Tags in 2019')\n",
    "plt.xticks(range(len(D)), list(D.keys()),rotation=90)\n",
    "plt.bar(range(len(D)), D.values(), align='center')"
   ]
  },
  {
   "cell_type": "markdown",
   "metadata": {},
   "source": [
    "#### Let us repeat the same process for views.\n",
    "we create a dictionary called **view_count_tags** where **key=tag** and **value=views**."
   ]
  },
  {
   "cell_type": "code",
   "execution_count": 10,
   "metadata": {},
   "outputs": [
    {
     "data": {
      "text/plain": [
       "[('python', 537585),\n",
       " ('machine-learning', 388499),\n",
       " ('keras', 268608),\n",
       " ('deep-learning', 233628),\n",
       " ('pandas', 201787),\n",
       " ('neural-network', 185367),\n",
       " ('scikit-learn', 128110),\n",
       " ('tensorflow', 121369),\n",
       " ('classification', 104457),\n",
       " ('dataframe', 89352),\n",
       " ('lstm', 74458),\n",
       " ('nlp', 71382),\n",
       " ('cnn', 70349),\n",
       " ('time-series', 64134),\n",
       " ('numpy', 49767),\n",
       " ('regression', 49451),\n",
       " ('dataset', 43151),\n",
       " ('pytorch', 40240),\n",
       " ('csv', 38654),\n",
       " ('clustering', 33928)]"
      ]
     },
     "execution_count": 10,
     "metadata": {},
     "output_type": "execute_result"
    }
   ],
   "source": [
    "view_count_tags={}\n",
    "for tag in distinct_tags:\n",
    "    mask=df['tags_list'].apply(lambda x: True if tag in x else False)\n",
    "    view_count_tags[tag]=df.loc[mask,'ViewCount'].sum()\n",
    "\n",
    "# Sort the values in descending order into a list.    \n",
    "sort_view_count_tags = sorted(view_count_tags.items(), key=lambda x: x[1], reverse=True)\n",
    "\n",
    "# Top most viewed 20 tags \n",
    "sort_view_count_tags[:20]    "
   ]
  },
  {
   "cell_type": "code",
   "execution_count": 11,
   "metadata": {},
   "outputs": [
    {
     "data": {
      "text/plain": [
       "<BarContainer object of 20 artists>"
      ]
     },
     "execution_count": 11,
     "metadata": {},
     "output_type": "execute_result"
    },
    {
     "data": {
      "image/png": "[encoded data removed]",
      "text/plain": [
       "<Figure size 1440x720 with 1 Axes>"
      ]
     },
     "metadata": {
      "needs_background": "light"
     },
     "output_type": "display_data"
    }
   ],
   "source": [
    "D=dict(sort_view_count_tags[:20])\n",
    "plt.figure(figsize=(20,10))\n",
    "plt.title('Top 20 : Most Viewed 20 Tags in 2019')\n",
    "plt.xticks(range(len(D)), list(D.keys()),rotation=90)\n",
    "plt.bar(range(len(D)), D.values(), align='center')\n",
    "\n"
   ]
  },
  {
   "cell_type": "code",
   "execution_count": 12,
   "metadata": {},
   "outputs": [
    {
     "data": {
      "text/html": [
       "<div>\n",
       "<style scoped>\n",
       "    .dataframe tbody tr th:only-of-type {\n",
       "        vertical-align: middle;\n",
       "    }\n",
       "\n",
       "    .dataframe tbody tr th {\n",
       "        vertical-align: top;\n",
       "    }\n",
       "\n",
       "    .dataframe thead th {\n",
       "        text-align: right;\n",
       "    }\n",
       "</style>\n",
       "<table border=\"1\" class=\"dataframe\">\n",
       "  <thead>\n",
       "    <tr style=\"text-align: right;\">\n",
       "      <th></th>\n",
       "      <th>Count</th>\n",
       "    </tr>\n",
       "  </thead>\n",
       "  <tbody>\n",
       "    <tr>\n",
       "      <th>machine-learning</th>\n",
       "      <td>2693</td>\n",
       "    </tr>\n",
       "    <tr>\n",
       "      <th>python</th>\n",
       "      <td>1814</td>\n",
       "    </tr>\n",
       "    <tr>\n",
       "      <th>deep-learning</th>\n",
       "      <td>1220</td>\n",
       "    </tr>\n",
       "    <tr>\n",
       "      <th>neural-network</th>\n",
       "      <td>1055</td>\n",
       "    </tr>\n",
       "    <tr>\n",
       "      <th>keras</th>\n",
       "      <td>935</td>\n",
       "    </tr>\n",
       "    <tr>\n",
       "      <th>classification</th>\n",
       "      <td>685</td>\n",
       "    </tr>\n",
       "    <tr>\n",
       "      <th>tensorflow</th>\n",
       "      <td>584</td>\n",
       "    </tr>\n",
       "    <tr>\n",
       "      <th>scikit-learn</th>\n",
       "      <td>540</td>\n",
       "    </tr>\n",
       "    <tr>\n",
       "      <th>nlp</th>\n",
       "      <td>493</td>\n",
       "    </tr>\n",
       "    <tr>\n",
       "      <th>cnn</th>\n",
       "      <td>489</td>\n",
       "    </tr>\n",
       "    <tr>\n",
       "      <th>time-series</th>\n",
       "      <td>466</td>\n",
       "    </tr>\n",
       "    <tr>\n",
       "      <th>lstm</th>\n",
       "      <td>402</td>\n",
       "    </tr>\n",
       "    <tr>\n",
       "      <th>pandas</th>\n",
       "      <td>354</td>\n",
       "    </tr>\n",
       "    <tr>\n",
       "      <th>regression</th>\n",
       "      <td>347</td>\n",
       "    </tr>\n",
       "    <tr>\n",
       "      <th>dataset</th>\n",
       "      <td>340</td>\n",
       "    </tr>\n",
       "    <tr>\n",
       "      <th>r</th>\n",
       "      <td>268</td>\n",
       "    </tr>\n",
       "    <tr>\n",
       "      <th>predictive-modeling</th>\n",
       "      <td>265</td>\n",
       "    </tr>\n",
       "    <tr>\n",
       "      <th>clustering</th>\n",
       "      <td>257</td>\n",
       "    </tr>\n",
       "    <tr>\n",
       "      <th>statistics</th>\n",
       "      <td>234</td>\n",
       "    </tr>\n",
       "    <tr>\n",
       "      <th>machine-learning-model</th>\n",
       "      <td>224</td>\n",
       "    </tr>\n",
       "  </tbody>\n",
       "</table>\n",
       "</div>"
      ],
      "text/plain": [
       "                        Count\n",
       "machine-learning         2693\n",
       "python                   1814\n",
       "deep-learning            1220\n",
       "neural-network           1055\n",
       "keras                     935\n",
       "classification            685\n",
       "tensorflow                584\n",
       "scikit-learn              540\n",
       "nlp                       493\n",
       "cnn                       489\n",
       "time-series               466\n",
       "lstm                      402\n",
       "pandas                    354\n",
       "regression                347\n",
       "dataset                   340\n",
       "r                         268\n",
       "predictive-modeling       265\n",
       "clustering                257\n",
       "statistics                234\n",
       "machine-learning-model    224"
      ]
     },
     "execution_count": 12,
     "metadata": {},
     "output_type": "execute_result"
    }
   ],
   "source": [
    "# Convert the count_tags dictionary into a dataframe\n",
    "used=pd.DataFrame.from_dict(count_tags,orient='index')\n",
    "used.columns=['Count']\n",
    "most_used=used.sort_values(by='Count',ascending=False).head(20)\n",
    "most_used.head(20)"
   ]
  },
  {
   "cell_type": "code",
   "execution_count": 13,
   "metadata": {},
   "outputs": [
    {
     "data": {
      "text/html": [
       "<div>\n",
       "<style scoped>\n",
       "    .dataframe tbody tr th:only-of-type {\n",
       "        vertical-align: middle;\n",
       "    }\n",
       "\n",
       "    .dataframe tbody tr th {\n",
       "        vertical-align: top;\n",
       "    }\n",
       "\n",
       "    .dataframe thead th {\n",
       "        text-align: right;\n",
       "    }\n",
       "</style>\n",
       "<table border=\"1\" class=\"dataframe\">\n",
       "  <thead>\n",
       "    <tr style=\"text-align: right;\">\n",
       "      <th></th>\n",
       "      <th>ViewCount</th>\n",
       "    </tr>\n",
       "  </thead>\n",
       "  <tbody>\n",
       "    <tr>\n",
       "      <th>python</th>\n",
       "      <td>537585</td>\n",
       "    </tr>\n",
       "    <tr>\n",
       "      <th>machine-learning</th>\n",
       "      <td>388499</td>\n",
       "    </tr>\n",
       "    <tr>\n",
       "      <th>keras</th>\n",
       "      <td>268608</td>\n",
       "    </tr>\n",
       "    <tr>\n",
       "      <th>deep-learning</th>\n",
       "      <td>233628</td>\n",
       "    </tr>\n",
       "    <tr>\n",
       "      <th>pandas</th>\n",
       "      <td>201787</td>\n",
       "    </tr>\n",
       "    <tr>\n",
       "      <th>neural-network</th>\n",
       "      <td>185367</td>\n",
       "    </tr>\n",
       "    <tr>\n",
       "      <th>scikit-learn</th>\n",
       "      <td>128110</td>\n",
       "    </tr>\n",
       "    <tr>\n",
       "      <th>tensorflow</th>\n",
       "      <td>121369</td>\n",
       "    </tr>\n",
       "    <tr>\n",
       "      <th>classification</th>\n",
       "      <td>104457</td>\n",
       "    </tr>\n",
       "    <tr>\n",
       "      <th>dataframe</th>\n",
       "      <td>89352</td>\n",
       "    </tr>\n",
       "    <tr>\n",
       "      <th>lstm</th>\n",
       "      <td>74458</td>\n",
       "    </tr>\n",
       "    <tr>\n",
       "      <th>nlp</th>\n",
       "      <td>71382</td>\n",
       "    </tr>\n",
       "    <tr>\n",
       "      <th>cnn</th>\n",
       "      <td>70349</td>\n",
       "    </tr>\n",
       "    <tr>\n",
       "      <th>time-series</th>\n",
       "      <td>64134</td>\n",
       "    </tr>\n",
       "    <tr>\n",
       "      <th>numpy</th>\n",
       "      <td>49767</td>\n",
       "    </tr>\n",
       "    <tr>\n",
       "      <th>regression</th>\n",
       "      <td>49451</td>\n",
       "    </tr>\n",
       "    <tr>\n",
       "      <th>dataset</th>\n",
       "      <td>43151</td>\n",
       "    </tr>\n",
       "    <tr>\n",
       "      <th>pytorch</th>\n",
       "      <td>40240</td>\n",
       "    </tr>\n",
       "    <tr>\n",
       "      <th>csv</th>\n",
       "      <td>38654</td>\n",
       "    </tr>\n",
       "    <tr>\n",
       "      <th>clustering</th>\n",
       "      <td>33928</td>\n",
       "    </tr>\n",
       "  </tbody>\n",
       "</table>\n",
       "</div>"
      ],
      "text/plain": [
       "                  ViewCount\n",
       "python               537585\n",
       "machine-learning     388499\n",
       "keras                268608\n",
       "deep-learning        233628\n",
       "pandas               201787\n",
       "neural-network       185367\n",
       "scikit-learn         128110\n",
       "tensorflow           121369\n",
       "classification       104457\n",
       "dataframe             89352\n",
       "lstm                  74458\n",
       "nlp                   71382\n",
       "cnn                   70349\n",
       "time-series           64134\n",
       "numpy                 49767\n",
       "regression            49451\n",
       "dataset               43151\n",
       "pytorch               40240\n",
       "csv                   38654\n",
       "clustering            33928"
      ]
     },
     "execution_count": 13,
     "metadata": {},
     "output_type": "execute_result"
    }
   ],
   "source": [
    "# Convert the view_count_tags dictionary into a dataframe\n",
    "viewed=pd.DataFrame.from_dict(view_count_tags,orient='index')\n",
    "viewed.columns=['ViewCount']\n",
    "most_viewed=viewed.sort_values(by='ViewCount',ascending=False).head(20)\n",
    "most_viewed.head(20)"
   ]
  },
  {
   "cell_type": "markdown",
   "metadata": {},
   "source": [
    "## How are tags related?\n",
    "One way of finding how pairs of tags are related to each other, is to count how many times each pair appears together. \n",
    "In this part, we will look for associations between pairs of tags.\n",
    "\n",
    "Let us start off by obtaining a set of tags mostly used and viewed.\n",
    "Some of the tags only used in one of them."
   ]
  },
  {
   "cell_type": "code",
   "execution_count": 14,
   "metadata": {},
   "outputs": [
    {
     "name": "stdout",
     "output_type": "stream",
     "text": [
      "Appears only in top 20 used list : {'statistics', 'predictive-modeling', 'machine-learning-model', 'r'}\n",
      "Appears only in top 20 viewed list{'csv', 'pytorch', 'dataframe', 'numpy'}\n"
     ]
    }
   ],
   "source": [
    "\n",
    "ix_most_viewed=set(most_viewed.index)\n",
    "ix_most_used=set(most_used.index)\n",
    "print('Appears only in top 20 used list : {}'.format(ix_most_used-ix_most_viewed))\n",
    "print('Appears only in top 20 viewed list{}'.format(ix_most_viewed-ix_most_used))\n",
    "\n",
    "# set of tags showing up in top 20 mostly used or viewed list\n",
    "ix_most_used_and_viewed=ix_most_viewed | ix_most_used"
   ]
  },
  {
   "cell_type": "markdown",
   "metadata": {},
   "source": [
    "#####  * We use itertools library to find all possible pairs.\n",
    "##### * Count how many times each pair appears in the same question."
   ]
  },
  {
   "cell_type": "code",
   "execution_count": 15,
   "metadata": {},
   "outputs": [],
   "source": [
    "top_comb=list(it.combinations(ix_most_used_and_viewed,2))\n",
    "Count_Top_Pairs=pd.DataFrame(index=top_comb)\n",
    "Count_Top_Pairs['Count_Pair_Used']=0\n",
    "for pair in top_comb:\n",
    "    mask=df['tags_list'].apply(lambda x : set(pair).issubset(x))\n",
    "    Count_Top_Pairs.loc[pair,'Count_Pair_Used']=mask.sum()\n",
    "    \n",
    "Count_Top_Pairs=Count_Top_Pairs.sort_values(by='Count_Pair_Used',ascending=False)"
   ]
  },
  {
   "cell_type": "code",
   "execution_count": 16,
   "metadata": {},
   "outputs": [
    {
     "name": "stdout",
     "output_type": "stream",
     "text": [
      "                                            Count_Pair_Used\n",
      "(machine-learning, python)                              499\n",
      "(deep-learning, machine-learning)                       429\n",
      "(neural-network, machine-learning)                      366\n",
      "(deep-learning, neural-network)                         305\n",
      "(keras, python)                                         280\n",
      "(classification, machine-learning)                      259\n",
      "(keras, tensorflow)                                     256\n",
      "(deep-learning, keras)                                  247\n",
      "(pandas, python)                                        244\n",
      "(keras, neural-network)                                 235\n",
      "(scikit-learn, python)                                  235\n",
      "(keras, machine-learning)                               195\n",
      "(scikit-learn, machine-learning)                        188\n",
      "(python, tensorflow)                                    167\n",
      "(deep-learning, python)                                 160\n",
      "(deep-learning, cnn)                                    160\n",
      "(machine-learning-model, machine-learning)              139\n",
      "(neural-network, python)                                137\n",
      "(deep-learning, tensorflow)                             136\n",
      "(lstm, keras)                                           133\n",
      "                                     Count_Pair_Used\n",
      "(nlp, numpy)                                       0\n",
      "(nlp, csv)                                         0\n",
      "(regression, csv)                                  0\n",
      "(csv, cnn)                                         0\n",
      "(csv, tensorflow)                                  0\n",
      "(clustering, keras)                                0\n",
      "(time-series, nlp)                                 0\n",
      "(clustering, pytorch)                              0\n",
      "(clustering, predictive-modeling)                  0\n",
      "(time-series, dataframe)                           0\n",
      "(scikit-learn, cnn)                                0\n",
      "(csv, neural-network)                              0\n",
      "(clustering, dataframe)                            0\n",
      "(nlp, dataframe)                                   0\n",
      "(clustering, csv)                                  0\n",
      "(dataframe, keras)                                 0\n",
      "(r, numpy)                                         0\n",
      "(pytorch, csv)                                     0\n",
      "(dataframe, predictive-modeling)                   0\n",
      "(dataframe, machine-learning-model)                0\n",
      "(scikit-learn, csv)                                0\n",
      "(regression, dataframe)                            0\n",
      "(dataframe, deep-learning)                         0\n",
      "(lstm, csv)                                        0\n",
      "(dataframe, neural-network)                        0\n",
      "(dataframe, tensorflow)                            0\n",
      "(machine-learning-model, csv)                      0\n",
      "(clustering, cnn)                                  0\n",
      "(predictive-modeling, csv)                         0\n",
      "(statistics, csv)                                  0\n",
      "(pytorch, r)                                       0\n",
      "(statistics, tensorflow)                           0\n",
      "(pytorch, pandas)                                  0\n",
      "(pytorch, dataframe)                               0\n",
      "(clustering, tensorflow)                           0\n",
      "(dataframe, lstm)                                  0\n",
      "(dataframe, cnn)                                   0\n"
     ]
    }
   ],
   "source": [
    "# Top 20 pairs\n",
    "print(Count_Top_Pairs.head(20))\n",
    "\n",
    "# Pairs never show up together\n",
    "mask=Count_Top_Pairs['Count_Pair_Used']==0\n",
    "print(Count_Top_Pairs[mask])"
   ]
  },
  {
   "cell_type": "markdown",
   "metadata": {},
   "source": [
    "#### We repeat the same process for triples."
   ]
  },
  {
   "cell_type": "code",
   "execution_count": 17,
   "metadata": {},
   "outputs": [
    {
     "name": "stdout",
     "output_type": "stream",
     "text": [
      "                                                   Count_Triple_Used\n",
      "(deep-learning, neural-network, machine-learning)                124\n",
      "(scikit-learn, machine-learning, python)                          93\n",
      "(keras, python, tensorflow)                                       78\n",
      "(deep-learning, keras, neural-network)                            70\n",
      "(keras, neural-network, machine-learning)                         64\n",
      "(keras, machine-learning, python)                                 62\n",
      "(deep-learning, keras, machine-learning)                          61\n",
      "(deep-learning, keras, python)                                    57\n",
      "(deep-learning, keras, tensorflow)                                56\n",
      "(keras, neural-network, tensorflow)                               56\n",
      "(neural-network, machine-learning, cnn)                           54\n",
      "(keras, neural-network, python)                                   53\n",
      "(deep-learning, machine-learning, python)                         50\n",
      "(deep-learning, neural-network, cnn)                              44\n",
      "(deep-learning, machine-learning, cnn)                            43\n",
      "(pandas, machine-learning, python)                                43\n",
      "(dataframe, pandas, python)                                       42\n",
      "(keras, machine-learning, tensorflow)                             41\n",
      "(deep-learning, keras, cnn)                                       39\n",
      "(classification, machine-learning, python)                        36\n"
     ]
    }
   ],
   "source": [
    "# List of all triples\n",
    "top_comb_3=list(it.combinations(ix_most_used_and_viewed,3))\n",
    "\n",
    "#Count top triples\n",
    "Count_Top_Triples=pd.DataFrame(index=top_comb_3)\n",
    "Count_Top_Triples['Count_Triple_Used']=0\n",
    "for triple in top_comb_3:\n",
    "    mask=df['tags_list'].apply(lambda x : set(triple).issubset(x))\n",
    "    Count_Top_Triples.loc[triple,'Count_Triple_Used']=mask.sum()\n",
    "    \n",
    "Count_Top_Triples=Count_Top_Triples.sort_values(by='Count_Triple_Used',ascending=False)\n",
    "\n",
    "# Print top 20 results\n",
    "print(Count_Top_Triples.head(20))\n",
    "# mask=Count_Top_Triples['Count_Triple_Used']==0\n",
    "# print(Count_Top_Triples[mask])"
   ]
  },
  {
   "cell_type": "markdown",
   "metadata": {},
   "source": [
    "**The most used tags also seem to have the strongest relationships, as can be observed from the tables above.** "
   ]
  },
  {
   "cell_type": "markdown",
   "metadata": {},
   "source": [
    "# Deep Learning Over Time\n",
    "\n",
    "You may have noticed that the most used tags are also the most viewed. From the top 10 tags of each, here's a list of the tags in common:\n",
    "\n",
    "**python, machine-learning, deep-learning, neural-network, keras, tensorflow, classification, scikit-learn**.\n",
    "\n",
    "Do you know what each of these or most of these tags means? Could there be strong relations between them?\n",
    "\n",
    "At the glance of an eye, someone with sufficient domain knowledge can tell that the most popular topic at the moment, as shown by our analysis, is deep learning.\n",
    "\n",
    "To see the change in the popularity of deep learning over the years, \n",
    "let us select all data science related questions from Stack Exchange by\n",
    "writing a simple SQL query and save results in a .csv file **all_questions.csv**:\n",
    "\n",
    "   ```\n",
    "SELECT Id, CreationDate, Tags\n",
    "  FROM posts\n",
    " WHERE PostTypeId = 1;\n",
    "```\n",
    "\n",
    "\n",
    "### We repeat the same data cleaning process:\n",
    "\n",
    "* Read in the file into a dataframe called df_all.\n",
    "* Inspect the dataframe.\n",
    "* We can use the same technique as before to clean the tags column."
   ]
  },
  {
   "cell_type": "code",
   "execution_count": 18,
   "metadata": {},
   "outputs": [
    {
     "name": "stdout",
     "output_type": "stream",
     "text": [
      "<class 'pandas.core.frame.DataFrame'>\n",
      "RangeIndex: 21576 entries, 0 to 21575\n",
      "Data columns (total 3 columns):\n",
      " #   Column        Non-Null Count  Dtype \n",
      "---  ------        --------------  ----- \n",
      " 0   Id            21576 non-null  int64 \n",
      " 1   CreationDate  21576 non-null  object\n",
      " 2   Tags          21576 non-null  object\n",
      "dtypes: int64(1), object(2)\n",
      "memory usage: 505.8+ KB\n"
     ]
    }
   ],
   "source": [
    "df_all=pd.read_csv('all_questions.csv')\n",
    "df_all.info()"
   ]
  },
  {
   "cell_type": "code",
   "execution_count": 19,
   "metadata": {},
   "outputs": [
    {
     "data": {
      "text/plain": [
       "0        <python><keras><tensorflow><cnn><probability>\n",
       "1                                     <neural-network>\n",
       "2                        <python><ibm-watson><chatbot>\n",
       "3                                              <keras>\n",
       "4    <r><predictive-modeling><machine-learning-mode...\n",
       "Name: Tags, dtype: object"
      ]
     },
     "execution_count": 19,
     "metadata": {},
     "output_type": "execute_result"
    }
   ],
   "source": [
    "df_all['Tags'].head()"
   ]
  },
  {
   "cell_type": "code",
   "execution_count": 20,
   "metadata": {},
   "outputs": [
    {
     "data": {
      "text/html": [
       "<div>\n",
       "<style scoped>\n",
       "    .dataframe tbody tr th:only-of-type {\n",
       "        vertical-align: middle;\n",
       "    }\n",
       "\n",
       "    .dataframe tbody tr th {\n",
       "        vertical-align: top;\n",
       "    }\n",
       "\n",
       "    .dataframe thead th {\n",
       "        text-align: right;\n",
       "    }\n",
       "</style>\n",
       "<table border=\"1\" class=\"dataframe\">\n",
       "  <thead>\n",
       "    <tr style=\"text-align: right;\">\n",
       "      <th></th>\n",
       "      <th>Id</th>\n",
       "      <th>CreationDate</th>\n",
       "      <th>Tags</th>\n",
       "      <th>No_Of_tags</th>\n",
       "      <th>tags_list</th>\n",
       "    </tr>\n",
       "  </thead>\n",
       "  <tbody>\n",
       "    <tr>\n",
       "      <th>65</th>\n",
       "      <td>5</td>\n",
       "      <td>2014-05-13 23:58:30</td>\n",
       "      <td>machine-learning</td>\n",
       "      <td>1</td>\n",
       "      <td>[machine-learning]</td>\n",
       "    </tr>\n",
       "    <tr>\n",
       "      <th>66</th>\n",
       "      <td>7</td>\n",
       "      <td>2014-05-14 00:11:06</td>\n",
       "      <td>education,open-source</td>\n",
       "      <td>2</td>\n",
       "      <td>[education, open-source]</td>\n",
       "    </tr>\n",
       "    <tr>\n",
       "      <th>67</th>\n",
       "      <td>14</td>\n",
       "      <td>2014-05-14 01:25:59</td>\n",
       "      <td>data-mining,definitions</td>\n",
       "      <td>2</td>\n",
       "      <td>[data-mining, definitions]</td>\n",
       "    </tr>\n",
       "    <tr>\n",
       "      <th>68</th>\n",
       "      <td>15</td>\n",
       "      <td>2014-05-14 01:41:23</td>\n",
       "      <td>databases</td>\n",
       "      <td>1</td>\n",
       "      <td>[databases]</td>\n",
       "    </tr>\n",
       "    <tr>\n",
       "      <th>69</th>\n",
       "      <td>16</td>\n",
       "      <td>2014-05-14 01:57:56</td>\n",
       "      <td>machine-learning,bigdata,libsvm</td>\n",
       "      <td>3</td>\n",
       "      <td>[machine-learning, bigdata, libsvm]</td>\n",
       "    </tr>\n",
       "  </tbody>\n",
       "</table>\n",
       "</div>"
      ],
      "text/plain": [
       "    Id        CreationDate                             Tags  No_Of_tags  \\\n",
       "65   5 2014-05-13 23:58:30                 machine-learning           1   \n",
       "66   7 2014-05-14 00:11:06            education,open-source           2   \n",
       "67  14 2014-05-14 01:25:59          data-mining,definitions           2   \n",
       "68  15 2014-05-14 01:41:23                        databases           1   \n",
       "69  16 2014-05-14 01:57:56  machine-learning,bigdata,libsvm           3   \n",
       "\n",
       "                              tags_list  \n",
       "65                   [machine-learning]  \n",
       "66             [education, open-source]  \n",
       "67           [data-mining, definitions]  \n",
       "68                          [databases]  \n",
       "69  [machine-learning, bigdata, libsvm]  "
      ]
     },
     "execution_count": 20,
     "metadata": {},
     "output_type": "execute_result"
    }
   ],
   "source": [
    "df_all['CreationDate']=df_all['CreationDate'].apply(pd.to_datetime)\n",
    "lst=['<','>']\n",
    "df_all['Tags']=df_all['Tags'].str.replace('><',',').str.translate({ord(x):'' for x in lst})\n",
    "df_all['No_Of_tags']=df_all['Tags'].str.count(',')+1\n",
    "df_all['tags_list']=df_all['Tags'].str.split(',')\n",
    "df_all=df_all.sort_values(by='CreationDate')\n",
    "df_all['CreationDate'].dtype\n",
    "df_all.head()\n"
   ]
  },
  {
   "cell_type": "markdown",
   "metadata": {},
   "source": [
    "Before deciding which questions should be classified as being deep learning questions, we should decide what tags are deep learning tags.\n",
    "\n",
    "The definition of what constitutes a deep learning tag we'll use is: a tag that belongs to the list [\"lstm\", \"cnn\", \"scikit-learn\", \"tensorflow\", \"keras\", \"neural-network\", \"deep-learning\"].\n",
    "\n",
    "This list was obtained by looking at all the tags in most_used and seeing which ones had any relation to deep learning. You can use Google and read the tags descriptions to reach similar results.\n",
    "\n",
    "We'll now create a column named as DL that assigns **True** to deep learning questions and **False** otherwise; and we use it.\n",
    "\n"
   ]
  },
  {
   "cell_type": "code",
   "execution_count": 21,
   "metadata": {},
   "outputs": [
    {
     "data": {
      "text/html": [
       "<div>\n",
       "<style scoped>\n",
       "    .dataframe tbody tr th:only-of-type {\n",
       "        vertical-align: middle;\n",
       "    }\n",
       "\n",
       "    .dataframe tbody tr th {\n",
       "        vertical-align: top;\n",
       "    }\n",
       "\n",
       "    .dataframe thead th {\n",
       "        text-align: right;\n",
       "    }\n",
       "</style>\n",
       "<table border=\"1\" class=\"dataframe\">\n",
       "  <thead>\n",
       "    <tr style=\"text-align: right;\">\n",
       "      <th></th>\n",
       "      <th>Id</th>\n",
       "      <th>CreationDate</th>\n",
       "      <th>Tags</th>\n",
       "      <th>No_Of_tags</th>\n",
       "      <th>tags_list</th>\n",
       "      <th>DL</th>\n",
       "    </tr>\n",
       "  </thead>\n",
       "  <tbody>\n",
       "    <tr>\n",
       "      <th>21266</th>\n",
       "      <td>66673</td>\n",
       "      <td>2020-01-18 13:46:20</td>\n",
       "      <td>python,recurrent-neural-net,scipy</td>\n",
       "      <td>3</td>\n",
       "      <td>[python, recurrent-neural-net, scipy]</td>\n",
       "      <td>False</td>\n",
       "    </tr>\n",
       "    <tr>\n",
       "      <th>21316</th>\n",
       "      <td>66679</td>\n",
       "      <td>2020-01-18 14:41:53</td>\n",
       "      <td>keras,image-classification,overfitting,python-3.x</td>\n",
       "      <td>4</td>\n",
       "      <td>[keras, image-classification, overfitting, pyt...</td>\n",
       "      <td>True</td>\n",
       "    </tr>\n",
       "    <tr>\n",
       "      <th>21317</th>\n",
       "      <td>66681</td>\n",
       "      <td>2020-01-18 18:06:40</td>\n",
       "      <td>neural-network,training,matlab</td>\n",
       "      <td>3</td>\n",
       "      <td>[neural-network, training, matlab]</td>\n",
       "      <td>True</td>\n",
       "    </tr>\n",
       "    <tr>\n",
       "      <th>21318</th>\n",
       "      <td>66682</td>\n",
       "      <td>2020-01-18 19:12:33</td>\n",
       "      <td>keras,time-series,lstm</td>\n",
       "      <td>3</td>\n",
       "      <td>[keras, time-series, lstm]</td>\n",
       "      <td>True</td>\n",
       "    </tr>\n",
       "    <tr>\n",
       "      <th>21319</th>\n",
       "      <td>66683</td>\n",
       "      <td>2020-01-18 20:11:59</td>\n",
       "      <td>tensorflow,object-detection</td>\n",
       "      <td>2</td>\n",
       "      <td>[tensorflow, object-detection]</td>\n",
       "      <td>True</td>\n",
       "    </tr>\n",
       "    <tr>\n",
       "      <th>21320</th>\n",
       "      <td>66684</td>\n",
       "      <td>2020-01-18 21:17:34</td>\n",
       "      <td>machine-learning,python,matplotlib,csv</td>\n",
       "      <td>4</td>\n",
       "      <td>[machine-learning, python, matplotlib, csv]</td>\n",
       "      <td>False</td>\n",
       "    </tr>\n",
       "    <tr>\n",
       "      <th>21321</th>\n",
       "      <td>66685</td>\n",
       "      <td>2020-01-18 23:56:27</td>\n",
       "      <td>machine-learning,nlp,named-entity-recognition</td>\n",
       "      <td>3</td>\n",
       "      <td>[machine-learning, nlp, named-entity-recognition]</td>\n",
       "      <td>False</td>\n",
       "    </tr>\n",
       "    <tr>\n",
       "      <th>21322</th>\n",
       "      <td>66686</td>\n",
       "      <td>2020-01-19 00:49:00</td>\n",
       "      <td>data-mining,bigdata,association-rules</td>\n",
       "      <td>3</td>\n",
       "      <td>[data-mining, bigdata, association-rules]</td>\n",
       "      <td>False</td>\n",
       "    </tr>\n",
       "    <tr>\n",
       "      <th>21323</th>\n",
       "      <td>66690</td>\n",
       "      <td>2020-01-19 02:21:53</td>\n",
       "      <td>keras,gan</td>\n",
       "      <td>2</td>\n",
       "      <td>[keras, gan]</td>\n",
       "      <td>True</td>\n",
       "    </tr>\n",
       "    <tr>\n",
       "      <th>21324</th>\n",
       "      <td>66691</td>\n",
       "      <td>2020-01-19 03:01:03</td>\n",
       "      <td>python,pandas,anaconda,statsmodels</td>\n",
       "      <td>4</td>\n",
       "      <td>[python, pandas, anaconda, statsmodels]</td>\n",
       "      <td>False</td>\n",
       "    </tr>\n",
       "  </tbody>\n",
       "</table>\n",
       "</div>"
      ],
      "text/plain": [
       "          Id        CreationDate  \\\n",
       "21266  66673 2020-01-18 13:46:20   \n",
       "21316  66679 2020-01-18 14:41:53   \n",
       "21317  66681 2020-01-18 18:06:40   \n",
       "21318  66682 2020-01-18 19:12:33   \n",
       "21319  66683 2020-01-18 20:11:59   \n",
       "21320  66684 2020-01-18 21:17:34   \n",
       "21321  66685 2020-01-18 23:56:27   \n",
       "21322  66686 2020-01-19 00:49:00   \n",
       "21323  66690 2020-01-19 02:21:53   \n",
       "21324  66691 2020-01-19 03:01:03   \n",
       "\n",
       "                                                    Tags  No_Of_tags  \\\n",
       "21266                  python,recurrent-neural-net,scipy           3   \n",
       "21316  keras,image-classification,overfitting,python-3.x           4   \n",
       "21317                     neural-network,training,matlab           3   \n",
       "21318                             keras,time-series,lstm           3   \n",
       "21319                        tensorflow,object-detection           2   \n",
       "21320             machine-learning,python,matplotlib,csv           4   \n",
       "21321      machine-learning,nlp,named-entity-recognition           3   \n",
       "21322              data-mining,bigdata,association-rules           3   \n",
       "21323                                          keras,gan           2   \n",
       "21324                 python,pandas,anaconda,statsmodels           4   \n",
       "\n",
       "                                               tags_list     DL  \n",
       "21266              [python, recurrent-neural-net, scipy]  False  \n",
       "21316  [keras, image-classification, overfitting, pyt...   True  \n",
       "21317                 [neural-network, training, matlab]   True  \n",
       "21318                         [keras, time-series, lstm]   True  \n",
       "21319                     [tensorflow, object-detection]   True  \n",
       "21320        [machine-learning, python, matplotlib, csv]  False  \n",
       "21321  [machine-learning, nlp, named-entity-recognition]  False  \n",
       "21322          [data-mining, bigdata, association-rules]  False  \n",
       "21323                                       [keras, gan]   True  \n",
       "21324            [python, pandas, anaconda, statsmodels]  False  "
      ]
     },
     "execution_count": 21,
     "metadata": {},
     "output_type": "execute_result"
    }
   ],
   "source": [
    "dl_tags={\"lstm\", \"cnn\", \"scikit-learn\", \"tensorflow\",\"keras\", \"neural-network\", \"deep-learning\"}\n",
    "len(dl_tags)\n",
    "\n",
    "df_all[\"DL\"] = df_all[\"tags_list\"].apply(lambda x: True if len(set(x)&dl_tags)>0 else False)\n",
    "df_all.tail(10)"
   ]
  },
  {
   "cell_type": "markdown",
   "metadata": {},
   "source": [
    "### Now let's turn our attention to monthly changes in Deep Learning realm.\n"
   ]
  },
  {
   "cell_type": "code",
   "execution_count": 22,
   "metadata": {},
   "outputs": [
    {
     "name": "stdout",
     "output_type": "stream",
     "text": [
      "2014-05-13 23:58:30 2020-01-19 03:01:03\n"
     ]
    }
   ],
   "source": [
    "print(df_all['CreationDate'].min(),df_all['CreationDate'].max())"
   ]
  },
  {
   "cell_type": "markdown",
   "metadata": {},
   "source": [
    "we'll drop the rows where the dates are in 2014-05 or 2020-01 since we don't have all the data for the whole month. "
   ]
  },
  {
   "cell_type": "code",
   "execution_count": 23,
   "metadata": {},
   "outputs": [
    {
     "data": {
      "text/plain": [
       "(21048, 6)"
      ]
     },
     "execution_count": 23,
     "metadata": {},
     "output_type": "execute_result"
    }
   ],
   "source": [
    "df_all = df_all[(df_all[\"CreationDate\"] <= pd.Timestamp(2019,12,31)) & (df_all[\"CreationDate\"] >= pd.Timestamp(2014,6,1)) ]\n",
    "df_all.shape"
   ]
  },
  {
   "cell_type": "markdown",
   "metadata": {},
   "source": [
    "Because we will group data monthly, let us create YearMonth column from datetime CreationDate"
   ]
  },
  {
   "cell_type": "code",
   "execution_count": 24,
   "metadata": {},
   "outputs": [
    {
     "data": {
      "text/html": [
       "<div>\n",
       "<style scoped>\n",
       "    .dataframe tbody tr th:only-of-type {\n",
       "        vertical-align: middle;\n",
       "    }\n",
       "\n",
       "    .dataframe tbody tr th {\n",
       "        vertical-align: top;\n",
       "    }\n",
       "\n",
       "    .dataframe thead th {\n",
       "        text-align: right;\n",
       "    }\n",
       "</style>\n",
       "<table border=\"1\" class=\"dataframe\">\n",
       "  <thead>\n",
       "    <tr style=\"text-align: right;\">\n",
       "      <th></th>\n",
       "      <th>Id</th>\n",
       "      <th>CreationDate</th>\n",
       "      <th>Tags</th>\n",
       "      <th>No_Of_tags</th>\n",
       "      <th>tags_list</th>\n",
       "      <th>DL</th>\n",
       "      <th>YearMonth</th>\n",
       "    </tr>\n",
       "  </thead>\n",
       "  <tbody>\n",
       "    <tr>\n",
       "      <th>576</th>\n",
       "      <td>227</td>\n",
       "      <td>2014-06-01 10:25:51</td>\n",
       "      <td>bigdata,efficiency,apache-hadoop,distributed</td>\n",
       "      <td>4</td>\n",
       "      <td>[bigdata, efficiency, apache-hadoop, distributed]</td>\n",
       "      <td>False</td>\n",
       "      <td>201406</td>\n",
       "    </tr>\n",
       "    <tr>\n",
       "      <th>577</th>\n",
       "      <td>228</td>\n",
       "      <td>2014-06-01 12:51:25</td>\n",
       "      <td>bigdata,apache-hadoop</td>\n",
       "      <td>2</td>\n",
       "      <td>[bigdata, apache-hadoop]</td>\n",
       "      <td>False</td>\n",
       "      <td>201406</td>\n",
       "    </tr>\n",
       "    <tr>\n",
       "      <th>578</th>\n",
       "      <td>231</td>\n",
       "      <td>2014-06-05 09:00:27</td>\n",
       "      <td>classification,confusion-matrix,accuracy</td>\n",
       "      <td>3</td>\n",
       "      <td>[classification, confusion-matrix, accuracy]</td>\n",
       "      <td>False</td>\n",
       "      <td>201406</td>\n",
       "    </tr>\n",
       "    <tr>\n",
       "      <th>579</th>\n",
       "      <td>234</td>\n",
       "      <td>2014-06-09 04:43:03</td>\n",
       "      <td>knowledge-base</td>\n",
       "      <td>1</td>\n",
       "      <td>[knowledge-base]</td>\n",
       "      <td>False</td>\n",
       "      <td>201406</td>\n",
       "    </tr>\n",
       "    <tr>\n",
       "      <th>580</th>\n",
       "      <td>235</td>\n",
       "      <td>2014-06-09 08:34:29</td>\n",
       "      <td>python,visualization</td>\n",
       "      <td>2</td>\n",
       "      <td>[python, visualization]</td>\n",
       "      <td>False</td>\n",
       "      <td>201406</td>\n",
       "    </tr>\n",
       "    <tr>\n",
       "      <th>...</th>\n",
       "      <td>...</td>\n",
       "      <td>...</td>\n",
       "      <td>...</td>\n",
       "      <td>...</td>\n",
       "      <td>...</td>\n",
       "      <td>...</td>\n",
       "      <td>...</td>\n",
       "    </tr>\n",
       "    <tr>\n",
       "      <th>20288</th>\n",
       "      <td>65638</td>\n",
       "      <td>2019-12-30 15:22:22</td>\n",
       "      <td>machine-learning,r,algorithms</td>\n",
       "      <td>3</td>\n",
       "      <td>[machine-learning, r, algorithms]</td>\n",
       "      <td>False</td>\n",
       "      <td>201912</td>\n",
       "    </tr>\n",
       "    <tr>\n",
       "      <th>20289</th>\n",
       "      <td>65641</td>\n",
       "      <td>2019-12-30 17:20:56</td>\n",
       "      <td>machine-learning,regression,recurrent-neural-n...</td>\n",
       "      <td>5</td>\n",
       "      <td>[machine-learning, regression, recurrent-neura...</td>\n",
       "      <td>False</td>\n",
       "      <td>201912</td>\n",
       "    </tr>\n",
       "    <tr>\n",
       "      <th>20290</th>\n",
       "      <td>65645</td>\n",
       "      <td>2019-12-30 20:08:04</td>\n",
       "      <td>neural-network,reinforcement-learning</td>\n",
       "      <td>2</td>\n",
       "      <td>[neural-network, reinforcement-learning]</td>\n",
       "      <td>True</td>\n",
       "      <td>201912</td>\n",
       "    </tr>\n",
       "    <tr>\n",
       "      <th>20291</th>\n",
       "      <td>65648</td>\n",
       "      <td>2019-12-30 22:10:01</td>\n",
       "      <td>python,deep-learning,keras,reinforcement-learn...</td>\n",
       "      <td>5</td>\n",
       "      <td>[python, deep-learning, keras, reinforcement-l...</td>\n",
       "      <td>True</td>\n",
       "      <td>201912</td>\n",
       "    </tr>\n",
       "    <tr>\n",
       "      <th>20292</th>\n",
       "      <td>65649</td>\n",
       "      <td>2019-12-30 22:37:09</td>\n",
       "      <td>python,neural-network,keras,loss-function,auto...</td>\n",
       "      <td>5</td>\n",
       "      <td>[python, neural-network, keras, loss-function,...</td>\n",
       "      <td>True</td>\n",
       "      <td>201912</td>\n",
       "    </tr>\n",
       "  </tbody>\n",
       "</table>\n",
       "<p>21048 rows × 7 columns</p>\n",
       "</div>"
      ],
      "text/plain": [
       "          Id        CreationDate  \\\n",
       "576      227 2014-06-01 10:25:51   \n",
       "577      228 2014-06-01 12:51:25   \n",
       "578      231 2014-06-05 09:00:27   \n",
       "579      234 2014-06-09 04:43:03   \n",
       "580      235 2014-06-09 08:34:29   \n",
       "...      ...                 ...   \n",
       "20288  65638 2019-12-30 15:22:22   \n",
       "20289  65641 2019-12-30 17:20:56   \n",
       "20290  65645 2019-12-30 20:08:04   \n",
       "20291  65648 2019-12-30 22:10:01   \n",
       "20292  65649 2019-12-30 22:37:09   \n",
       "\n",
       "                                                    Tags  No_Of_tags  \\\n",
       "576         bigdata,efficiency,apache-hadoop,distributed           4   \n",
       "577                                bigdata,apache-hadoop           2   \n",
       "578             classification,confusion-matrix,accuracy           3   \n",
       "579                                       knowledge-base           1   \n",
       "580                                 python,visualization           2   \n",
       "...                                                  ...         ...   \n",
       "20288                      machine-learning,r,algorithms           3   \n",
       "20289  machine-learning,regression,recurrent-neural-n...           5   \n",
       "20290              neural-network,reinforcement-learning           2   \n",
       "20291  python,deep-learning,keras,reinforcement-learn...           5   \n",
       "20292  python,neural-network,keras,loss-function,auto...           5   \n",
       "\n",
       "                                               tags_list     DL YearMonth  \n",
       "576    [bigdata, efficiency, apache-hadoop, distributed]  False    201406  \n",
       "577                             [bigdata, apache-hadoop]  False    201406  \n",
       "578         [classification, confusion-matrix, accuracy]  False    201406  \n",
       "579                                     [knowledge-base]  False    201406  \n",
       "580                              [python, visualization]  False    201406  \n",
       "...                                                  ...    ...       ...  \n",
       "20288                  [machine-learning, r, algorithms]  False    201912  \n",
       "20289  [machine-learning, regression, recurrent-neura...  False    201912  \n",
       "20290           [neural-network, reinforcement-learning]   True    201912  \n",
       "20291  [python, deep-learning, keras, reinforcement-l...   True    201912  \n",
       "20292  [python, neural-network, keras, loss-function,...   True    201912  \n",
       "\n",
       "[21048 rows x 7 columns]"
      ]
     },
     "execution_count": 24,
     "metadata": {},
     "output_type": "execute_result"
    }
   ],
   "source": [
    "df_all['YearMonth']=df_all['CreationDate'].apply(lambda x:x.strftime('%Y%m'))\n",
    "df_all"
   ]
  },
  {
   "cell_type": "markdown",
   "metadata": {},
   "source": [
    "### As a final mission, we'll now complete the following tasks:\n",
    "* Count how many deep learning questions are asked per month.\n",
    "* The total amount of questions each month.\n",
    "* The ratio of deep learning questions to the total amount of questions per month."
   ]
  },
  {
   "cell_type": "code",
   "execution_count": 25,
   "metadata": {},
   "outputs": [
    {
     "data": {
      "text/html": [
       "<div>\n",
       "<style scoped>\n",
       "    .dataframe tbody tr th:only-of-type {\n",
       "        vertical-align: middle;\n",
       "    }\n",
       "\n",
       "    .dataframe tbody tr th {\n",
       "        vertical-align: top;\n",
       "    }\n",
       "\n",
       "    .dataframe thead th {\n",
       "        text-align: right;\n",
       "    }\n",
       "</style>\n",
       "<table border=\"1\" class=\"dataframe\">\n",
       "  <thead>\n",
       "    <tr style=\"text-align: right;\">\n",
       "      <th></th>\n",
       "      <th>YearMonth</th>\n",
       "      <th>DLQuestions</th>\n",
       "      <th>TotalQuestions</th>\n",
       "      <th>DLRatio</th>\n",
       "    </tr>\n",
       "  </thead>\n",
       "  <tbody>\n",
       "    <tr>\n",
       "      <th>0</th>\n",
       "      <td>2014-06</td>\n",
       "      <td>7.0</td>\n",
       "      <td>99</td>\n",
       "      <td>0.070707</td>\n",
       "    </tr>\n",
       "    <tr>\n",
       "      <th>1</th>\n",
       "      <td>2014-07</td>\n",
       "      <td>7.0</td>\n",
       "      <td>76</td>\n",
       "      <td>0.092105</td>\n",
       "    </tr>\n",
       "    <tr>\n",
       "      <th>2</th>\n",
       "      <td>2014-08</td>\n",
       "      <td>5.0</td>\n",
       "      <td>65</td>\n",
       "      <td>0.076923</td>\n",
       "    </tr>\n",
       "    <tr>\n",
       "      <th>3</th>\n",
       "      <td>2014-09</td>\n",
       "      <td>1.0</td>\n",
       "      <td>48</td>\n",
       "      <td>0.020833</td>\n",
       "    </tr>\n",
       "    <tr>\n",
       "      <th>4</th>\n",
       "      <td>2014-10</td>\n",
       "      <td>7.0</td>\n",
       "      <td>71</td>\n",
       "      <td>0.098592</td>\n",
       "    </tr>\n",
       "  </tbody>\n",
       "</table>\n",
       "</div>"
      ],
      "text/plain": [
       "  YearMonth  DLQuestions  TotalQuestions   DLRatio\n",
       "0   2014-06          7.0              99  0.070707\n",
       "1   2014-07          7.0              76  0.092105\n",
       "2   2014-08          5.0              65  0.076923\n",
       "3   2014-09          1.0              48  0.020833\n",
       "4   2014-10          7.0              71  0.098592"
      ]
     },
     "execution_count": 25,
     "metadata": {},
     "output_type": "execute_result"
    }
   ],
   "source": [
    "monthly = df_all.groupby('YearMonth')[\"DL\"].agg( ['sum', 'size'])\n",
    "monthly.columns = ['DLQuestions', 'TotalQuestions']\n",
    "monthly[\"DLRatio\"] = monthly[\"DLQuestions\"]\\\n",
    "                                /monthly[\"TotalQuestions\"]\n",
    "# The following is done to help with visualizations later.\n",
    "monthly.reset_index(inplace=True)\n",
    "monthly['YearMonth']=monthly['YearMonth'].apply(lambda x: x[:4]+'-'+x[-2:])\n",
    "monthly.head()"
   ]
  },
  {
   "cell_type": "code",
   "execution_count": 26,
   "metadata": {},
   "outputs": [
    {
     "data": {
      "text/plain": [
       "Text(0.5, 1.0, 'Monthly Changes')"
      ]
     },
     "execution_count": 26,
     "metadata": {},
     "output_type": "execute_result"
    },
    {
     "data": {
      "image/png": "[encoded data removed]",
      "text/plain": [
       "<Figure size 1440x720 with 1 Axes>"
      ]
     },
     "metadata": {
      "needs_background": "light"
     },
     "output_type": "display_data"
    }
   ],
   "source": [
    "ax1 = monthly[['YearMonth','DLQuestions', 'TotalQuestions']].plot(x=\"YearMonth\", \n",
    "                    kind=\"line\", linestyle=\"-\", marker=\"o\", \n",
    "                    figsize=(20,10)\n",
    "                    )\n",
    "ax1.set_title('Monthly Changes')\n"
   ]
  },
  {
   "cell_type": "code",
   "execution_count": 27,
   "metadata": {},
   "outputs": [
    {
     "data": {
      "text/plain": [
       "Text(0.5, 1.0, 'Monthly Changes in Deep-Learning Ratio')"
      ]
     },
     "execution_count": 27,
     "metadata": {},
     "output_type": "execute_result"
    },
    {
     "data": {
      "image/png": "[encoded data removed]",
      "text/plain": [
       "<Figure size 1440x720 with 1 Axes>"
      ]
     },
     "metadata": {
      "needs_background": "light"
     },
     "output_type": "display_data"
    }
   ],
   "source": [
    "ax2 = monthly[['YearMonth','DLRatio']].plot(x=\"YearMonth\", \n",
    "                    kind=\"line\", linestyle=\"-\", marker=\"o\",color='red' ,\n",
    "                    figsize=(20,10)\n",
    "                    )\n",
    "ax2.set_title('Monthly Changes in Deep-Learning Ratio')"
   ]
  },
  {
   "cell_type": "markdown",
   "metadata": {},
   "source": [
    "Deep Learning(DL), as a branch of Machine Learning, employs algorithms to process data and imitate the thinking process, or to develop abstractions. DL uses layers of algorithms to process data, understand human speech, and visually recognize objects.\n",
    "\n",
    "Starting from mid 2104, DL questions seem to have a high-growth trend  and now it looks like plateauing. \n",
    "We can not conclude that the interest in deep learning is decreasing. Currently, the processing of Big Data and the evolution of Artificial Intelligence are both dependent on Deep Learning. Deep Learning is still evolving and in need of creative ideas."
   ]
  },
  {
   "cell_type": "code",
   "execution_count": null,
   "metadata": {},
   "outputs": [],
   "source": []
  }
 ],
 "metadata": {
  "kernelspec": {
   "display_name": "Python 3",
   "language": "python",
   "name": "python3"
  },
  "language_info": {
   "codemirror_mode": {
    "name": "ipython",
    "version": 3
   },
   "file_extension": ".py",
   "mimetype": "text/x-python",
   "name": "python",
   "nbconvert_exporter": "python",
   "pygments_lexer": "ipython3",
   "version": "3.7.4"
  }
 },
 "nbformat": 4,
 "nbformat_minor": 2
}
